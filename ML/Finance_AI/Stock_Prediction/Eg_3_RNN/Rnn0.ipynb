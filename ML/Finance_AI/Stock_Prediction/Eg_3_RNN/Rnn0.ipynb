{
 "cells": [
  {
   "cell_type": "code",
   "execution_count": 1,
   "metadata": {},
   "outputs": [],
   "source": [
    "%reload_ext autoreload\n",
    "%autoreload 2\n",
    "%matplotlib inline"
   ]
  },
  {
   "cell_type": "code",
   "execution_count": 2,
   "metadata": {},
   "outputs": [],
   "source": [
    "import torch\n",
    "import torch.nn as nn\n",
    "import torch.nn.functional as F\n",
    "from torch.utils.data import Dataset, DataLoader\n",
    "import matplotlib.pyplot as plt\n",
    "from torch.autograd import Variable\n",
    "from sklearn.preprocessing import normalize\n",
    "from sklearn.metrics import mean_squared_error"
   ]
  },
  {
   "cell_type": "code",
   "execution_count": 3,
   "metadata": {},
   "outputs": [],
   "source": [
    "import pandas as pd"
   ]
  },
  {
   "cell_type": "code",
   "execution_count": 4,
   "metadata": {},
   "outputs": [],
   "source": [
    "import numpy as np\n",
    "from pathlib import Path"
   ]
  },
  {
   "cell_type": "code",
   "execution_count": 102,
   "metadata": {},
   "outputs": [
    {
     "name": "stdout",
     "output_type": "stream",
     "text": [
      "all_stocks_5yr.csv  individual_stocks_5yr      __MACOSX  models\r\n",
      "getSandP.py\t    individual_stocks_5yr.zip  merge.sh\r\n"
     ]
    }
   ],
   "source": [
    "!ls  \\Stock"
   ]
  },
  {
   "cell_type": "code",
   "execution_count": 6,
   "metadata": {},
   "outputs": [],
   "source": [
    "path = Path('/home/dani/course-v3/nbs/dl1/Stock/individual_stocks_5yr')"
   ]
  },
  {
   "cell_type": "code",
   "execution_count": 7,
   "metadata": {},
   "outputs": [],
   "source": [
    "df = pd.read_csv(path/'AAPL_data.csv')"
   ]
  },
  {
   "cell_type": "code",
   "execution_count": 8,
   "metadata": {
    "scrolled": true
   },
   "outputs": [
    {
     "data": {
      "text/html": [
       "<div>\n",
       "<style scoped>\n",
       "    .dataframe tbody tr th:only-of-type {\n",
       "        vertical-align: middle;\n",
       "    }\n",
       "\n",
       "    .dataframe tbody tr th {\n",
       "        vertical-align: top;\n",
       "    }\n",
       "\n",
       "    .dataframe thead th {\n",
       "        text-align: right;\n",
       "    }\n",
       "</style>\n",
       "<table border=\"1\" class=\"dataframe\">\n",
       "  <thead>\n",
       "    <tr style=\"text-align: right;\">\n",
       "      <th></th>\n",
       "      <th>date</th>\n",
       "      <th>open</th>\n",
       "      <th>high</th>\n",
       "      <th>low</th>\n",
       "      <th>close</th>\n",
       "      <th>volume</th>\n",
       "      <th>Name</th>\n",
       "    </tr>\n",
       "  </thead>\n",
       "  <tbody>\n",
       "    <tr>\n",
       "      <th>0</th>\n",
       "      <td>2013-02-08</td>\n",
       "      <td>67.7142</td>\n",
       "      <td>68.4014</td>\n",
       "      <td>66.8928</td>\n",
       "      <td>67.8542</td>\n",
       "      <td>158168416</td>\n",
       "      <td>AAPL</td>\n",
       "    </tr>\n",
       "    <tr>\n",
       "      <th>1</th>\n",
       "      <td>2013-02-11</td>\n",
       "      <td>68.0714</td>\n",
       "      <td>69.2771</td>\n",
       "      <td>67.6071</td>\n",
       "      <td>68.5614</td>\n",
       "      <td>129029425</td>\n",
       "      <td>AAPL</td>\n",
       "    </tr>\n",
       "    <tr>\n",
       "      <th>2</th>\n",
       "      <td>2013-02-12</td>\n",
       "      <td>68.5014</td>\n",
       "      <td>68.9114</td>\n",
       "      <td>66.8205</td>\n",
       "      <td>66.8428</td>\n",
       "      <td>151829363</td>\n",
       "      <td>AAPL</td>\n",
       "    </tr>\n",
       "    <tr>\n",
       "      <th>3</th>\n",
       "      <td>2013-02-13</td>\n",
       "      <td>66.7442</td>\n",
       "      <td>67.6628</td>\n",
       "      <td>66.1742</td>\n",
       "      <td>66.7156</td>\n",
       "      <td>118721995</td>\n",
       "      <td>AAPL</td>\n",
       "    </tr>\n",
       "    <tr>\n",
       "      <th>4</th>\n",
       "      <td>2013-02-14</td>\n",
       "      <td>66.3599</td>\n",
       "      <td>67.3771</td>\n",
       "      <td>66.2885</td>\n",
       "      <td>66.6556</td>\n",
       "      <td>88809154</td>\n",
       "      <td>AAPL</td>\n",
       "    </tr>\n",
       "  </tbody>\n",
       "</table>\n",
       "</div>"
      ],
      "text/plain": [
       "         date     open     high      low    close     volume  Name\n",
       "0  2013-02-08  67.7142  68.4014  66.8928  67.8542  158168416  AAPL\n",
       "1  2013-02-11  68.0714  69.2771  67.6071  68.5614  129029425  AAPL\n",
       "2  2013-02-12  68.5014  68.9114  66.8205  66.8428  151829363  AAPL\n",
       "3  2013-02-13  66.7442  67.6628  66.1742  66.7156  118721995  AAPL\n",
       "4  2013-02-14  66.3599  67.3771  66.2885  66.6556   88809154  AAPL"
      ]
     },
     "execution_count": 8,
     "metadata": {},
     "output_type": "execute_result"
    }
   ],
   "source": [
    "df.head()"
   ]
  },
  {
   "cell_type": "code",
   "execution_count": 9,
   "metadata": {},
   "outputs": [],
   "source": [
    "df=df['close']"
   ]
  },
  {
   "cell_type": "code",
   "execution_count": 10,
   "metadata": {},
   "outputs": [],
   "source": [
    "df =(df.values).reshape(-1,1)\n",
    "df = (normalize(df, axis=0)).squeeze()"
   ]
  },
  {
   "cell_type": "code",
   "execution_count": 11,
   "metadata": {},
   "outputs": [],
   "source": [
    "df1 = pd.read_csv(path/'GOOGL_data.csv')"
   ]
  },
  {
   "cell_type": "code",
   "execution_count": 12,
   "metadata": {},
   "outputs": [],
   "source": [
    "df1=df1['close']"
   ]
  },
  {
   "cell_type": "code",
   "execution_count": 13,
   "metadata": {},
   "outputs": [],
   "source": [
    "df1 =(df1.values).reshape(-1,1)"
   ]
  },
  {
   "cell_type": "code",
   "execution_count": 14,
   "metadata": {},
   "outputs": [],
   "source": [
    "df1 = (normalize(df1, axis=0)).squeeze()"
   ]
  },
  {
   "cell_type": "code",
   "execution_count": 15,
   "metadata": {},
   "outputs": [
    {
     "data": {
      "text/plain": [
       "(1259,)"
      ]
     },
     "execution_count": 15,
     "metadata": {},
     "output_type": "execute_result"
    }
   ],
   "source": [
    "df1.shape"
   ]
  },
  {
   "cell_type": "code",
   "execution_count": 16,
   "metadata": {},
   "outputs": [],
   "source": [
    "df2 = pd.read_csv(path/'MSFT_data.csv')"
   ]
  },
  {
   "cell_type": "code",
   "execution_count": 17,
   "metadata": {},
   "outputs": [],
   "source": [
    "df2=df2['close']"
   ]
  },
  {
   "cell_type": "code",
   "execution_count": 18,
   "metadata": {},
   "outputs": [],
   "source": [
    "df2 =(df2.values).reshape(-1,1)\n",
    "df2 = (normalize(df2, axis=0)).squeeze()"
   ]
  },
  {
   "cell_type": "code",
   "execution_count": 19,
   "metadata": {},
   "outputs": [],
   "source": [
    "df3 = pd.read_csv(path/'AMZN_data.csv')"
   ]
  },
  {
   "cell_type": "code",
   "execution_count": 20,
   "metadata": {},
   "outputs": [],
   "source": [
    "df3=df3['close']"
   ]
  },
  {
   "cell_type": "code",
   "execution_count": 21,
   "metadata": {},
   "outputs": [],
   "source": [
    "df3 =(df3.values).reshape(-1,1)\n",
    "df3 = (normalize(df3, axis=0)).squeeze()"
   ]
  },
  {
   "cell_type": "code",
   "execution_count": 22,
   "metadata": {},
   "outputs": [],
   "source": [
    "df4 = pd.read_csv(path/'FB_data.csv')"
   ]
  },
  {
   "cell_type": "code",
   "execution_count": 23,
   "metadata": {},
   "outputs": [],
   "source": [
    "df4=df4['close']"
   ]
  },
  {
   "cell_type": "code",
   "execution_count": 24,
   "metadata": {},
   "outputs": [],
   "source": [
    "df4 =(df4.values).reshape(-1,1)\n",
    "df4 = (normalize(df4, axis=0)).squeeze()"
   ]
  },
  {
   "cell_type": "code",
   "execution_count": 25,
   "metadata": {
    "scrolled": true
   },
   "outputs": [
    {
     "data": {
      "text/plain": [
       "0.007593188857278845"
      ]
     },
     "execution_count": 25,
     "metadata": {},
     "output_type": "execute_result"
    }
   ],
   "source": [
    "df4[0]"
   ]
  },
  {
   "cell_type": "code",
   "execution_count": 26,
   "metadata": {},
   "outputs": [
    {
     "data": {
      "text/plain": [
       "numpy.float32"
      ]
     },
     "execution_count": 26,
     "metadata": {},
     "output_type": "execute_result"
    }
   ],
   "source": [
    "wind=20 # Time Window\n",
    "TimeS = np.empty([len(df)-wind-1, wind+1])\n",
    "TimeS.shape\n",
    "TimeS=np.float32(TimeS)\n",
    "TimeS1=np.float32(np.empty([len(df)-wind-1, wind+1]))\n",
    "TimeS2=np.float32(np.empty([len(df)-wind-1, wind+1]))\n",
    "TimeS3=np.float32(np.empty([len(df)-wind-1, wind+1]))\n",
    "TimeS4=np.float32(np.empty([len(df)-wind-1, wind+1]))\n",
    "type(TimeS[0][0])"
   ]
  },
  {
   "cell_type": "code",
   "execution_count": 27,
   "metadata": {
    "scrolled": false
   },
   "outputs": [],
   "source": [
    "for i in range(len(df)-wind-1):\n",
    "    TimeS[i,:]=df[i:i+wind+1]"
   ]
  },
  {
   "cell_type": "code",
   "execution_count": 28,
   "metadata": {},
   "outputs": [
    {
     "data": {
      "text/plain": [
       "array([[0.01688401, 0.01705998, 0.01663234, ..., 0.01530582, 0.01534625,\n",
       "        0.01556487],\n",
       "       [0.01705998, 0.01663234, 0.01660069, ..., 0.01534625, 0.01556487,\n",
       "        0.0152293 ],\n",
       "       [0.01663234, 0.01660069, 0.01658576, ..., 0.01556487, 0.0152293 ,\n",
       "        0.01522647],\n",
       "       ...,\n",
       "       [0.04305467, 0.04354486, 0.04338312, ..., 0.04166123, 0.04174832,\n",
       "        0.03993686],\n",
       "       [0.04354486, 0.04338312, 0.04337814, ..., 0.04174832, 0.03993686,\n",
       "        0.03893906],\n",
       "       [0.04338312, 0.04337814, 0.04336819, ..., 0.03993686, 0.03893906,\n",
       "        0.04056639]], dtype=float32)"
      ]
     },
     "execution_count": 28,
     "metadata": {},
     "output_type": "execute_result"
    }
   ],
   "source": [
    "TimeS"
   ]
  },
  {
   "cell_type": "code",
   "execution_count": 29,
   "metadata": {},
   "outputs": [],
   "source": [
    "TargetNump=TimeS[:,20]"
   ]
  },
  {
   "cell_type": "code",
   "execution_count": 30,
   "metadata": {},
   "outputs": [
    {
     "data": {
      "text/plain": [
       "(1238,)"
      ]
     },
     "execution_count": 30,
     "metadata": {},
     "output_type": "execute_result"
    }
   ],
   "source": [
    "TargetNump.shape"
   ]
  },
  {
   "cell_type": "code",
   "execution_count": 31,
   "metadata": {},
   "outputs": [],
   "source": [
    "Y_Train=TargetNump[0:960]"
   ]
  },
  {
   "cell_type": "code",
   "execution_count": 32,
   "metadata": {},
   "outputs": [],
   "source": [
    "Y_Test= TargetNump[960:]"
   ]
  },
  {
   "cell_type": "code",
   "execution_count": 33,
   "metadata": {},
   "outputs": [],
   "source": [
    "Y_Test= Y_Test[0:256]"
   ]
  },
  {
   "cell_type": "code",
   "execution_count": 34,
   "metadata": {},
   "outputs": [],
   "source": [
    "DataNump=TimeS[:,0:20]"
   ]
  },
  {
   "cell_type": "code",
   "execution_count": 35,
   "metadata": {},
   "outputs": [],
   "source": [
    "for i in range(len(df)-wind-1):\n",
    "    TimeS1[i,:]=df1[i:i+wind+1]"
   ]
  },
  {
   "cell_type": "code",
   "execution_count": 36,
   "metadata": {},
   "outputs": [],
   "source": [
    "TimeS1=TimeS1[:,0:20]"
   ]
  },
  {
   "cell_type": "code",
   "execution_count": 37,
   "metadata": {},
   "outputs": [
    {
     "data": {
      "text/plain": [
       "(1238, 20)"
      ]
     },
     "execution_count": 37,
     "metadata": {},
     "output_type": "execute_result"
    }
   ],
   "source": [
    "TimeS1.shape"
   ]
  },
  {
   "cell_type": "code",
   "execution_count": 38,
   "metadata": {},
   "outputs": [],
   "source": [
    "for i in range(len(df)-wind-1):\n",
    "    TimeS2[i,:]=df2[i:i+wind+1]"
   ]
  },
  {
   "cell_type": "code",
   "execution_count": 39,
   "metadata": {},
   "outputs": [],
   "source": [
    "TimeS2=TimeS2[:,0:20]"
   ]
  },
  {
   "cell_type": "code",
   "execution_count": 40,
   "metadata": {},
   "outputs": [],
   "source": [
    "for i in range(len(df)-wind-1):\n",
    "    TimeS3[i,:]=df3[i:i+wind+1]"
   ]
  },
  {
   "cell_type": "code",
   "execution_count": 41,
   "metadata": {},
   "outputs": [],
   "source": [
    "TimeS3=TimeS3[:,0:20]"
   ]
  },
  {
   "cell_type": "code",
   "execution_count": 42,
   "metadata": {},
   "outputs": [],
   "source": [
    "for i in range(len(df)-wind-1):\n",
    "    TimeS4[i,:]=df4[i:i+wind+1]\n"
   ]
  },
  {
   "cell_type": "code",
   "execution_count": 43,
   "metadata": {},
   "outputs": [],
   "source": [
    "TimeS4=TimeS4[:,0:20]"
   ]
  },
  {
   "cell_type": "code",
   "execution_count": 44,
   "metadata": {
    "scrolled": true
   },
   "outputs": [
    {
     "data": {
      "text/plain": [
       "array([0.00759319, 0.00751738, 0.00728063, 0.00742361, 0.00758122,\n",
       "       0.00753334, 0.0076956 , 0.00757111, 0.00725749, 0.00721679,\n",
       "       0.00725403, 0.00728595, 0.00714763, 0.00724871, 0.00738969,\n",
       "       0.00737373, 0.00732053, 0.00730258, 0.00760197, 0.00743757],\n",
       "      dtype=float32)"
      ]
     },
     "execution_count": 44,
     "metadata": {},
     "output_type": "execute_result"
    }
   ],
   "source": [
    "X_complete=np.stack((DataNump, TimeS1, TimeS2, TimeS3, TimeS4), axis=0)\n",
    "X_complete.shape\n",
    "TimeS4[0,:]"
   ]
  },
  {
   "cell_type": "code",
   "execution_count": 45,
   "metadata": {},
   "outputs": [],
   "source": [
    "X_complete=X_complete.transpose(2,1,0)"
   ]
  },
  {
   "cell_type": "code",
   "execution_count": 46,
   "metadata": {},
   "outputs": [],
   "source": [
    "X_Train=X_complete[:,0:960,:]"
   ]
  },
  {
   "cell_type": "code",
   "execution_count": 47,
   "metadata": {},
   "outputs": [],
   "source": [
    "X_Test=X_complete[:,960:,:]"
   ]
  },
  {
   "cell_type": "code",
   "execution_count": 48,
   "metadata": {},
   "outputs": [
    {
     "data": {
      "text/plain": [
       "(20, 278, 5)"
      ]
     },
     "execution_count": 48,
     "metadata": {},
     "output_type": "execute_result"
    }
   ],
   "source": [
    "np.shape(X_Test)"
   ]
  },
  {
   "cell_type": "code",
   "execution_count": 49,
   "metadata": {},
   "outputs": [],
   "source": [
    "X_Test=X_Test[:,0:256,:]"
   ]
  },
  {
   "cell_type": "code",
   "execution_count": 50,
   "metadata": {
    "scrolled": true
   },
   "outputs": [
    {
     "data": {
      "text/plain": [
       "(20, 256, 5)"
      ]
     },
     "execution_count": 50,
     "metadata": {},
     "output_type": "execute_result"
    }
   ],
   "source": [
    "np.shape(X_Test)"
   ]
  },
  {
   "cell_type": "code",
   "execution_count": 51,
   "metadata": {},
   "outputs": [],
   "source": [
    "bs=64\n",
    "numlay=2\n",
    "hiddenSz=20"
   ]
  },
  {
   "cell_type": "code",
   "execution_count": 52,
   "metadata": {},
   "outputs": [],
   "source": [
    "class Model1(nn.Module):\n",
    "    \n",
    "    def __init__(self):\n",
    "        super(Model1, self).__init__()\n",
    "        #self.rnn = nn.RNN(input_size=1,hidden_size=20, num_layers=1, batch_first = True)\n",
    "        self.lstm = nn.LSTM(input_size=5,hidden_size=hiddenSz, num_layers=numlay, batch_first = True)\n",
    "        self.out = nn.Linear(20,1)\n",
    "        self.bn = nn.BatchNorm1d(20)\n",
    "#     def forward(self,x, h_state):\n",
    "#         r_out, h_state = self.rnn(x, h_state)\n",
    "    def forward(self,x, h_state, c_state):\n",
    "        r_out, (h_state,c_state) = self.lstm(x, (h_state,c_state))    \n",
    "        r_out = self.bn(r_out)\n",
    "        \n",
    "        outs=[]\n",
    "        for time_step in range(r_out.size(1)):\n",
    "            outs.append(self.out(r_out[:,time_step,:]))\n",
    "            \n",
    "        \n",
    "        return torch.stack(outs,dim=1), (h_state, c_state)"
   ]
  },
  {
   "cell_type": "code",
   "execution_count": 53,
   "metadata": {},
   "outputs": [],
   "source": [
    "net=Model1()"
   ]
  },
  {
   "cell_type": "code",
   "execution_count": 54,
   "metadata": {},
   "outputs": [
    {
     "data": {
      "text/plain": [
       "Model1(\n",
       "  (lstm): LSTM(5, 20, num_layers=2, batch_first=True)\n",
       "  (out): Linear(in_features=20, out_features=1, bias=True)\n",
       "  (bn): BatchNorm1d(20, eps=1e-05, momentum=0.1, affine=True, track_running_stats=True)\n",
       ")"
      ]
     },
     "execution_count": 54,
     "metadata": {},
     "output_type": "execute_result"
    }
   ],
   "source": [
    "net.cuda()"
   ]
  },
  {
   "cell_type": "code",
   "execution_count": 55,
   "metadata": {},
   "outputs": [],
   "source": [
    "h_state = torch.zeros(numlay,bs,hiddenSz).cuda()\n",
    "c_state = torch.zeros(numlay,bs,hiddenSz).cuda()"
   ]
  },
  {
   "cell_type": "code",
   "execution_count": 56,
   "metadata": {},
   "outputs": [],
   "source": [
    "class StockDataset(Dataset):\n",
    "    \n",
    "    def __init__(self, X_dataset, Y_dataset):\n",
    "        \n",
    "        self.X_dataset = torch.from_numpy(X_dataset)\n",
    "        self.Y_dataset = torch.from_numpy(Y_dataset)\n",
    "        \n",
    "    def __len__(self):\n",
    "        return np.shape(self.Y_dataset)[0]\n",
    "\n",
    "    def __getitem__(self, idx):\n",
    "        \n",
    "        sample = {'Sequence': self.X_dataset[:,idx,:], \"Target\": self.Y_dataset[idx]}\n",
    "      \n",
    "\n",
    "        return sample"
   ]
  },
  {
   "cell_type": "code",
   "execution_count": 57,
   "metadata": {},
   "outputs": [],
   "source": [
    "Train_ds=StockDataset(X_Train, Y_Train)"
   ]
  },
  {
   "cell_type": "code",
   "execution_count": 58,
   "metadata": {},
   "outputs": [
    {
     "data": {
      "text/plain": [
       "{'Sequence': tensor([[0.0169, 0.0157, 0.0146, 0.0115, 0.0076],\n",
       "         [0.0171, 0.0156, 0.0148, 0.0113, 0.0075],\n",
       "         [0.0166, 0.0156, 0.0148, 0.0114, 0.0073],\n",
       "         [0.0166, 0.0156, 0.0149, 0.0118, 0.0074],\n",
       "         [0.0166, 0.0157, 0.0149, 0.0118, 0.0076],\n",
       "         [0.0164, 0.0158, 0.0148, 0.0116, 0.0075],\n",
       "         [0.0164, 0.0161, 0.0149, 0.0118, 0.0077],\n",
       "         [0.0160, 0.0158, 0.0148, 0.0117, 0.0076],\n",
       "         [0.0159, 0.0159, 0.0146, 0.0117, 0.0073],\n",
       "         [0.0160, 0.0159, 0.0147, 0.0116, 0.0072],\n",
       "         [0.0157, 0.0158, 0.0145, 0.0114, 0.0073],\n",
       "         [0.0160, 0.0158, 0.0145, 0.0114, 0.0073],\n",
       "         [0.0158, 0.0159, 0.0147, 0.0116, 0.0071],\n",
       "         [0.0157, 0.0160, 0.0147, 0.0116, 0.0072],\n",
       "         [0.0153, 0.0161, 0.0148, 0.0117, 0.0074],\n",
       "         [0.0149, 0.0164, 0.0149, 0.0120, 0.0074],\n",
       "         [0.0153, 0.0167, 0.0150, 0.0121, 0.0073],\n",
       "         [0.0151, 0.0166, 0.0149, 0.0120, 0.0073],\n",
       "         [0.0153, 0.0166, 0.0149, 0.0120, 0.0076],\n",
       "         [0.0153, 0.0166, 0.0148, 0.0120, 0.0074]]), 'Target': tensor(0.0156)}"
      ]
     },
     "execution_count": 58,
     "metadata": {},
     "output_type": "execute_result"
    }
   ],
   "source": [
    "Train_ds[0]"
   ]
  },
  {
   "cell_type": "code",
   "execution_count": 59,
   "metadata": {},
   "outputs": [
    {
     "data": {
      "text/plain": [
       "960"
      ]
     },
     "execution_count": 59,
     "metadata": {},
     "output_type": "execute_result"
    }
   ],
   "source": [
    "len(Train_ds)"
   ]
  },
  {
   "cell_type": "code",
   "execution_count": 60,
   "metadata": {},
   "outputs": [
    {
     "name": "stdout",
     "output_type": "stream",
     "text": [
      "0 torch.Size([20, 5]) tensor(0.0156)\n",
      "1 torch.Size([20, 5]) tensor(0.0152)\n",
      "2 torch.Size([20, 5]) tensor(0.0152)\n",
      "3 torch.Size([20, 5]) tensor(0.0154)\n"
     ]
    }
   ],
   "source": [
    "for i in range(len(Train_ds)):\n",
    "    sample = Train_ds[i]\n",
    "\n",
    "    print(i, sample['Sequence'].size(), sample['Target'])\n",
    "\n",
    "    if i == 3:\n",
    "        break\n"
   ]
  },
  {
   "cell_type": "code",
   "execution_count": 61,
   "metadata": {},
   "outputs": [],
   "source": [
    "Train_dl = DataLoader(Train_ds, batch_size=bs, shuffle=False, num_workers=4)"
   ]
  },
  {
   "cell_type": "code",
   "execution_count": 62,
   "metadata": {
    "scrolled": false
   },
   "outputs": [
    {
     "data": {
      "text/plain": [
       "{'Sequence': tensor([[0.0166, 0.0156, 0.0148, 0.0114, 0.0073],\n",
       "         [0.0166, 0.0156, 0.0149, 0.0118, 0.0074],\n",
       "         [0.0166, 0.0157, 0.0149, 0.0118, 0.0076],\n",
       "         [0.0164, 0.0158, 0.0148, 0.0116, 0.0075],\n",
       "         [0.0164, 0.0161, 0.0149, 0.0118, 0.0077],\n",
       "         [0.0160, 0.0158, 0.0148, 0.0117, 0.0076],\n",
       "         [0.0159, 0.0159, 0.0146, 0.0117, 0.0073],\n",
       "         [0.0160, 0.0159, 0.0147, 0.0116, 0.0072],\n",
       "         [0.0157, 0.0158, 0.0145, 0.0114, 0.0073],\n",
       "         [0.0160, 0.0158, 0.0145, 0.0114, 0.0073],\n",
       "         [0.0158, 0.0159, 0.0147, 0.0116, 0.0071],\n",
       "         [0.0157, 0.0160, 0.0147, 0.0116, 0.0072],\n",
       "         [0.0153, 0.0161, 0.0148, 0.0117, 0.0074],\n",
       "         [0.0149, 0.0164, 0.0149, 0.0120, 0.0074],\n",
       "         [0.0153, 0.0167, 0.0150, 0.0121, 0.0073],\n",
       "         [0.0151, 0.0166, 0.0149, 0.0120, 0.0073],\n",
       "         [0.0153, 0.0166, 0.0149, 0.0120, 0.0076],\n",
       "         [0.0153, 0.0166, 0.0148, 0.0120, 0.0074],\n",
       "         [0.0156, 0.0166, 0.0148, 0.0119, 0.0075],\n",
       "         [0.0152, 0.0165, 0.0148, 0.0120, 0.0074]]), 'Target': tensor(0.0152)}"
      ]
     },
     "execution_count": 62,
     "metadata": {},
     "output_type": "execute_result"
    }
   ],
   "source": [
    "Train_dl.dataset[2]"
   ]
  },
  {
   "cell_type": "code",
   "execution_count": 63,
   "metadata": {},
   "outputs": [],
   "source": [
    "import torch.optim as optim"
   ]
  },
  {
   "cell_type": "code",
   "execution_count": 82,
   "metadata": {},
   "outputs": [],
   "source": [
    "criterion = nn.MSELoss()\n",
    "optimizer = optim.Adam(net.parameters(), lr=0.00005)\n"
   ]
  },
  {
   "cell_type": "code",
   "execution_count": 83,
   "metadata": {
    "scrolled": true
   },
   "outputs": [
    {
     "name": "stdout",
     "output_type": "stream",
     "text": [
      "[1, 2] loss: 0.0000044\n",
      "[1, 4] loss: 0.0000096\n",
      "[1, 6] loss: 0.0000054\n",
      "[1, 8] loss: 0.0000047\n",
      "[1, 10] loss: 0.0000158\n",
      "[1, 12] loss: 0.0000039\n",
      "[1, 14] loss: 0.0000009\n",
      "[2, 2] loss: 0.0000005\n",
      "[2, 4] loss: 0.0000032\n",
      "[2, 6] loss: 0.0000069\n",
      "[2, 8] loss: 0.0000034\n",
      "[2, 10] loss: 0.0000045\n",
      "[2, 12] loss: 0.0000025\n",
      "[2, 14] loss: 0.0000011\n",
      "[3, 2] loss: 0.0000046\n",
      "[3, 4] loss: 0.0000022\n",
      "[3, 6] loss: 0.0000100\n",
      "[3, 8] loss: 0.0000070\n",
      "[3, 10] loss: 0.0000013\n",
      "[3, 12] loss: 0.0000014\n",
      "[3, 14] loss: 0.0000019\n",
      "[4, 2] loss: 0.0000091\n",
      "[4, 4] loss: 0.0000017\n",
      "[4, 6] loss: 0.0000097\n",
      "[4, 8] loss: 0.0000089\n",
      "[4, 10] loss: 0.0000006\n",
      "[4, 12] loss: 0.0000010\n",
      "[4, 14] loss: 0.0000019\n",
      "[5, 2] loss: 0.0000115\n",
      "[5, 4] loss: 0.0000018\n",
      "[5, 6] loss: 0.0000082\n",
      "[5, 8] loss: 0.0000089\n",
      "[5, 10] loss: 0.0000005\n",
      "[5, 12] loss: 0.0000010\n",
      "[5, 14] loss: 0.0000016\n",
      "[6, 2] loss: 0.0000120\n",
      "[6, 4] loss: 0.0000019\n",
      "[6, 6] loss: 0.0000070\n",
      "[6, 8] loss: 0.0000082\n",
      "[6, 10] loss: 0.0000006\n",
      "[6, 12] loss: 0.0000011\n",
      "[6, 14] loss: 0.0000013\n",
      "[7, 2] loss: 0.0000116\n",
      "[7, 4] loss: 0.0000019\n",
      "[7, 6] loss: 0.0000062\n",
      "[7, 8] loss: 0.0000075\n",
      "[7, 10] loss: 0.0000005\n",
      "[7, 12] loss: 0.0000012\n",
      "[7, 14] loss: 0.0000012\n",
      "[8, 2] loss: 0.0000108\n",
      "[8, 4] loss: 0.0000018\n",
      "[8, 6] loss: 0.0000059\n",
      "[8, 8] loss: 0.0000070\n",
      "[8, 10] loss: 0.0000005\n",
      "[8, 12] loss: 0.0000012\n",
      "[8, 14] loss: 0.0000011\n",
      "[9, 2] loss: 0.0000100\n",
      "[9, 4] loss: 0.0000017\n",
      "[9, 6] loss: 0.0000058\n",
      "[9, 8] loss: 0.0000066\n",
      "[9, 10] loss: 0.0000006\n",
      "[9, 12] loss: 0.0000012\n",
      "[9, 14] loss: 0.0000011\n",
      "[10, 2] loss: 0.0000094\n",
      "[10, 4] loss: 0.0000016\n",
      "[10, 6] loss: 0.0000058\n",
      "[10, 8] loss: 0.0000064\n",
      "[10, 10] loss: 0.0000006\n",
      "[10, 12] loss: 0.0000012\n",
      "[10, 14] loss: 0.0000011\n",
      "[11, 2] loss: 0.0000088\n",
      "[11, 4] loss: 0.0000016\n",
      "[11, 6] loss: 0.0000059\n",
      "[11, 8] loss: 0.0000062\n",
      "[11, 10] loss: 0.0000007\n",
      "[11, 12] loss: 0.0000012\n",
      "[11, 14] loss: 0.0000010\n",
      "[12, 2] loss: 0.0000084\n",
      "[12, 4] loss: 0.0000015\n",
      "[12, 6] loss: 0.0000059\n",
      "[12, 8] loss: 0.0000060\n",
      "[12, 10] loss: 0.0000007\n",
      "[12, 12] loss: 0.0000012\n",
      "[12, 14] loss: 0.0000010\n",
      "[13, 2] loss: 0.0000079\n",
      "[13, 4] loss: 0.0000015\n",
      "[13, 6] loss: 0.0000060\n",
      "[13, 8] loss: 0.0000058\n",
      "[13, 10] loss: 0.0000008\n",
      "[13, 12] loss: 0.0000012\n",
      "[13, 14] loss: 0.0000010\n",
      "[14, 2] loss: 0.0000075\n",
      "[14, 4] loss: 0.0000015\n",
      "[14, 6] loss: 0.0000060\n",
      "[14, 8] loss: 0.0000057\n",
      "[14, 10] loss: 0.0000008\n",
      "[14, 12] loss: 0.0000012\n",
      "[14, 14] loss: 0.0000010\n",
      "[15, 2] loss: 0.0000072\n",
      "[15, 4] loss: 0.0000014\n",
      "[15, 6] loss: 0.0000060\n",
      "[15, 8] loss: 0.0000055\n",
      "[15, 10] loss: 0.0000009\n",
      "[15, 12] loss: 0.0000012\n",
      "[15, 14] loss: 0.0000010\n",
      "[16, 2] loss: 0.0000068\n",
      "[16, 4] loss: 0.0000014\n",
      "[16, 6] loss: 0.0000060\n",
      "[16, 8] loss: 0.0000054\n",
      "[16, 10] loss: 0.0000010\n",
      "[16, 12] loss: 0.0000012\n",
      "[16, 14] loss: 0.0000010\n",
      "[17, 2] loss: 0.0000065\n",
      "[17, 4] loss: 0.0000014\n",
      "[17, 6] loss: 0.0000060\n",
      "[17, 8] loss: 0.0000052\n",
      "[17, 10] loss: 0.0000011\n",
      "[17, 12] loss: 0.0000012\n",
      "[17, 14] loss: 0.0000009\n",
      "[18, 2] loss: 0.0000062\n",
      "[18, 4] loss: 0.0000014\n",
      "[18, 6] loss: 0.0000060\n",
      "[18, 8] loss: 0.0000051\n",
      "[18, 10] loss: 0.0000012\n",
      "[18, 12] loss: 0.0000012\n",
      "[18, 14] loss: 0.0000009\n",
      "[19, 2] loss: 0.0000059\n",
      "[19, 4] loss: 0.0000014\n",
      "[19, 6] loss: 0.0000060\n",
      "[19, 8] loss: 0.0000049\n",
      "[19, 10] loss: 0.0000013\n",
      "[19, 12] loss: 0.0000012\n",
      "[19, 14] loss: 0.0000009\n",
      "[20, 2] loss: 0.0000057\n",
      "[20, 4] loss: 0.0000014\n",
      "[20, 6] loss: 0.0000060\n",
      "[20, 8] loss: 0.0000048\n",
      "[20, 10] loss: 0.0000013\n",
      "[20, 12] loss: 0.0000013\n",
      "[20, 14] loss: 0.0000009\n",
      "[21, 2] loss: 0.0000054\n",
      "[21, 4] loss: 0.0000014\n",
      "[21, 6] loss: 0.0000059\n",
      "[21, 8] loss: 0.0000047\n",
      "[21, 10] loss: 0.0000014\n",
      "[21, 12] loss: 0.0000013\n",
      "[21, 14] loss: 0.0000008\n",
      "[22, 2] loss: 0.0000052\n",
      "[22, 4] loss: 0.0000014\n",
      "[22, 6] loss: 0.0000059\n",
      "[22, 8] loss: 0.0000045\n",
      "[22, 10] loss: 0.0000015\n",
      "[22, 12] loss: 0.0000013\n",
      "[22, 14] loss: 0.0000008\n",
      "[23, 2] loss: 0.0000050\n",
      "[23, 4] loss: 0.0000014\n",
      "[23, 6] loss: 0.0000059\n",
      "[23, 8] loss: 0.0000044\n",
      "[23, 10] loss: 0.0000016\n",
      "[23, 12] loss: 0.0000013\n",
      "[23, 14] loss: 0.0000008\n",
      "[24, 2] loss: 0.0000048\n",
      "[24, 4] loss: 0.0000014\n",
      "[24, 6] loss: 0.0000058\n",
      "[24, 8] loss: 0.0000043\n",
      "[24, 10] loss: 0.0000017\n",
      "[24, 12] loss: 0.0000013\n",
      "[24, 14] loss: 0.0000008\n",
      "[25, 2] loss: 0.0000046\n",
      "[25, 4] loss: 0.0000014\n",
      "[25, 6] loss: 0.0000058\n",
      "[25, 8] loss: 0.0000042\n",
      "[25, 10] loss: 0.0000018\n",
      "[25, 12] loss: 0.0000014\n",
      "[25, 14] loss: 0.0000008\n",
      "[26, 2] loss: 0.0000045\n",
      "[26, 4] loss: 0.0000014\n",
      "[26, 6] loss: 0.0000057\n",
      "[26, 8] loss: 0.0000041\n",
      "[26, 10] loss: 0.0000019\n",
      "[26, 12] loss: 0.0000014\n",
      "[26, 14] loss: 0.0000008\n",
      "[27, 2] loss: 0.0000043\n",
      "[27, 4] loss: 0.0000014\n",
      "[27, 6] loss: 0.0000057\n",
      "[27, 8] loss: 0.0000040\n",
      "[27, 10] loss: 0.0000020\n",
      "[27, 12] loss: 0.0000014\n",
      "[27, 14] loss: 0.0000007\n",
      "[28, 2] loss: 0.0000042\n",
      "[28, 4] loss: 0.0000014\n",
      "[28, 6] loss: 0.0000056\n",
      "[28, 8] loss: 0.0000039\n",
      "[28, 10] loss: 0.0000021\n",
      "[28, 12] loss: 0.0000014\n",
      "[28, 14] loss: 0.0000007\n",
      "[29, 2] loss: 0.0000040\n",
      "[29, 4] loss: 0.0000014\n",
      "[29, 6] loss: 0.0000056\n",
      "[29, 8] loss: 0.0000039\n",
      "[29, 10] loss: 0.0000021\n",
      "[29, 12] loss: 0.0000014\n",
      "[29, 14] loss: 0.0000007\n",
      "[30, 2] loss: 0.0000039\n",
      "[30, 4] loss: 0.0000014\n",
      "[30, 6] loss: 0.0000055\n",
      "[30, 8] loss: 0.0000038\n",
      "[30, 10] loss: 0.0000022\n",
      "[30, 12] loss: 0.0000014\n",
      "[30, 14] loss: 0.0000007\n",
      "[31, 2] loss: 0.0000038\n",
      "[31, 4] loss: 0.0000014\n",
      "[31, 6] loss: 0.0000055\n",
      "[31, 8] loss: 0.0000037\n",
      "[31, 10] loss: 0.0000023\n",
      "[31, 12] loss: 0.0000015\n",
      "[31, 14] loss: 0.0000007\n",
      "[32, 2] loss: 0.0000037\n",
      "[32, 4] loss: 0.0000014\n",
      "[32, 6] loss: 0.0000054\n",
      "[32, 8] loss: 0.0000037\n",
      "[32, 10] loss: 0.0000024\n",
      "[32, 12] loss: 0.0000015\n",
      "[32, 14] loss: 0.0000007\n",
      "[33, 2] loss: 0.0000036\n",
      "[33, 4] loss: 0.0000014\n",
      "[33, 6] loss: 0.0000054\n",
      "[33, 8] loss: 0.0000036\n",
      "[33, 10] loss: 0.0000024\n",
      "[33, 12] loss: 0.0000015\n",
      "[33, 14] loss: 0.0000007\n",
      "[34, 2] loss: 0.0000035\n",
      "[34, 4] loss: 0.0000014\n",
      "[34, 6] loss: 0.0000053\n",
      "[34, 8] loss: 0.0000035\n",
      "[34, 10] loss: 0.0000025\n",
      "[34, 12] loss: 0.0000015\n",
      "[34, 14] loss: 0.0000007\n",
      "[35, 2] loss: 0.0000034\n",
      "[35, 4] loss: 0.0000014\n",
      "[35, 6] loss: 0.0000053\n",
      "[35, 8] loss: 0.0000035\n",
      "[35, 10] loss: 0.0000026\n",
      "[35, 12] loss: 0.0000015\n",
      "[35, 14] loss: 0.0000007\n",
      "[36, 2] loss: 0.0000033\n",
      "[36, 4] loss: 0.0000014\n",
      "[36, 6] loss: 0.0000053\n",
      "[36, 8] loss: 0.0000034\n",
      "[36, 10] loss: 0.0000026\n",
      "[36, 12] loss: 0.0000015\n",
      "[36, 14] loss: 0.0000007\n",
      "[37, 2] loss: 0.0000033\n",
      "[37, 4] loss: 0.0000014\n",
      "[37, 6] loss: 0.0000052\n",
      "[37, 8] loss: 0.0000034\n",
      "[37, 10] loss: 0.0000027\n",
      "[37, 12] loss: 0.0000015\n",
      "[37, 14] loss: 0.0000007\n",
      "[38, 2] loss: 0.0000032\n",
      "[38, 4] loss: 0.0000014\n",
      "[38, 6] loss: 0.0000052\n",
      "[38, 8] loss: 0.0000033\n",
      "[38, 10] loss: 0.0000028\n",
      "[38, 12] loss: 0.0000015\n",
      "[38, 14] loss: 0.0000007\n",
      "[39, 2] loss: 0.0000031\n",
      "[39, 4] loss: 0.0000014\n",
      "[39, 6] loss: 0.0000051\n",
      "[39, 8] loss: 0.0000033\n",
      "[39, 10] loss: 0.0000028\n",
      "[39, 12] loss: 0.0000016\n",
      "[39, 14] loss: 0.0000007\n",
      "[40, 2] loss: 0.0000031\n",
      "[40, 4] loss: 0.0000014\n",
      "[40, 6] loss: 0.0000051\n",
      "[40, 8] loss: 0.0000033\n",
      "[40, 10] loss: 0.0000029\n",
      "[40, 12] loss: 0.0000016\n",
      "[40, 14] loss: 0.0000007\n",
      "[41, 2] loss: 0.0000030\n",
      "[41, 4] loss: 0.0000014\n",
      "[41, 6] loss: 0.0000050\n",
      "[41, 8] loss: 0.0000032\n",
      "[41, 10] loss: 0.0000029\n",
      "[41, 12] loss: 0.0000016\n",
      "[41, 14] loss: 0.0000007\n",
      "[42, 2] loss: 0.0000029\n",
      "[42, 4] loss: 0.0000014\n",
      "[42, 6] loss: 0.0000050\n",
      "[42, 8] loss: 0.0000032\n",
      "[42, 10] loss: 0.0000030\n",
      "[42, 12] loss: 0.0000016\n",
      "[42, 14] loss: 0.0000006\n",
      "[43, 2] loss: 0.0000029\n",
      "[43, 4] loss: 0.0000014\n",
      "[43, 6] loss: 0.0000050\n",
      "[43, 8] loss: 0.0000032\n",
      "[43, 10] loss: 0.0000030\n",
      "[43, 12] loss: 0.0000016\n",
      "[43, 14] loss: 0.0000006\n",
      "[44, 2] loss: 0.0000029\n",
      "[44, 4] loss: 0.0000014\n",
      "[44, 6] loss: 0.0000049\n",
      "[44, 8] loss: 0.0000031\n",
      "[44, 10] loss: 0.0000031\n",
      "[44, 12] loss: 0.0000016\n",
      "[44, 14] loss: 0.0000006\n",
      "[45, 2] loss: 0.0000028\n",
      "[45, 4] loss: 0.0000014\n",
      "[45, 6] loss: 0.0000049\n",
      "[45, 8] loss: 0.0000031\n",
      "[45, 10] loss: 0.0000031\n",
      "[45, 12] loss: 0.0000016\n",
      "[45, 14] loss: 0.0000006\n",
      "[46, 2] loss: 0.0000028\n",
      "[46, 4] loss: 0.0000014\n",
      "[46, 6] loss: 0.0000049\n",
      "[46, 8] loss: 0.0000031\n",
      "[46, 10] loss: 0.0000032\n",
      "[46, 12] loss: 0.0000016\n",
      "[46, 14] loss: 0.0000007\n",
      "[47, 2] loss: 0.0000027\n",
      "[47, 4] loss: 0.0000014\n",
      "[47, 6] loss: 0.0000048\n",
      "[47, 8] loss: 0.0000030\n",
      "[47, 10] loss: 0.0000032\n",
      "[47, 12] loss: 0.0000016\n",
      "[47, 14] loss: 0.0000007\n",
      "[48, 2] loss: 0.0000027\n",
      "[48, 4] loss: 0.0000014\n",
      "[48, 6] loss: 0.0000048\n",
      "[48, 8] loss: 0.0000030\n",
      "[48, 10] loss: 0.0000032\n",
      "[48, 12] loss: 0.0000016\n",
      "[48, 14] loss: 0.0000007\n",
      "[49, 2] loss: 0.0000027\n",
      "[49, 4] loss: 0.0000014\n",
      "[49, 6] loss: 0.0000048\n",
      "[49, 8] loss: 0.0000030\n",
      "[49, 10] loss: 0.0000033\n",
      "[49, 12] loss: 0.0000016\n",
      "[49, 14] loss: 0.0000007\n"
     ]
    },
    {
     "name": "stdout",
     "output_type": "stream",
     "text": [
      "[50, 2] loss: 0.0000026\n",
      "[50, 4] loss: 0.0000014\n",
      "[50, 6] loss: 0.0000047\n",
      "[50, 8] loss: 0.0000030\n",
      "[50, 10] loss: 0.0000033\n",
      "[50, 12] loss: 0.0000016\n",
      "[50, 14] loss: 0.0000007\n",
      "[51, 2] loss: 0.0000026\n",
      "[51, 4] loss: 0.0000014\n",
      "[51, 6] loss: 0.0000047\n",
      "[51, 8] loss: 0.0000030\n",
      "[51, 10] loss: 0.0000033\n",
      "[51, 12] loss: 0.0000016\n",
      "[51, 14] loss: 0.0000007\n",
      "[52, 2] loss: 0.0000026\n",
      "[52, 4] loss: 0.0000014\n",
      "[52, 6] loss: 0.0000047\n",
      "[52, 8] loss: 0.0000029\n",
      "[52, 10] loss: 0.0000034\n",
      "[52, 12] loss: 0.0000016\n",
      "[52, 14] loss: 0.0000007\n",
      "[53, 2] loss: 0.0000025\n",
      "[53, 4] loss: 0.0000014\n",
      "[53, 6] loss: 0.0000047\n",
      "[53, 8] loss: 0.0000029\n",
      "[53, 10] loss: 0.0000034\n",
      "[53, 12] loss: 0.0000016\n",
      "[53, 14] loss: 0.0000007\n",
      "[54, 2] loss: 0.0000025\n",
      "[54, 4] loss: 0.0000014\n",
      "[54, 6] loss: 0.0000046\n",
      "[54, 8] loss: 0.0000029\n",
      "[54, 10] loss: 0.0000034\n",
      "[54, 12] loss: 0.0000017\n",
      "[54, 14] loss: 0.0000007\n",
      "[55, 2] loss: 0.0000025\n",
      "[55, 4] loss: 0.0000014\n",
      "[55, 6] loss: 0.0000046\n",
      "[55, 8] loss: 0.0000029\n",
      "[55, 10] loss: 0.0000035\n",
      "[55, 12] loss: 0.0000017\n",
      "[55, 14] loss: 0.0000007\n",
      "[56, 2] loss: 0.0000024\n",
      "[56, 4] loss: 0.0000014\n",
      "[56, 6] loss: 0.0000046\n",
      "[56, 8] loss: 0.0000029\n",
      "[56, 10] loss: 0.0000035\n",
      "[56, 12] loss: 0.0000017\n",
      "[56, 14] loss: 0.0000007\n",
      "[57, 2] loss: 0.0000024\n",
      "[57, 4] loss: 0.0000014\n",
      "[57, 6] loss: 0.0000046\n",
      "[57, 8] loss: 0.0000029\n",
      "[57, 10] loss: 0.0000035\n",
      "[57, 12] loss: 0.0000017\n",
      "[57, 14] loss: 0.0000007\n",
      "[58, 2] loss: 0.0000024\n",
      "[58, 4] loss: 0.0000014\n",
      "[58, 6] loss: 0.0000046\n",
      "[58, 8] loss: 0.0000028\n",
      "[58, 10] loss: 0.0000036\n",
      "[58, 12] loss: 0.0000017\n",
      "[58, 14] loss: 0.0000007\n",
      "[59, 2] loss: 0.0000024\n",
      "[59, 4] loss: 0.0000014\n",
      "[59, 6] loss: 0.0000045\n",
      "[59, 8] loss: 0.0000028\n",
      "[59, 10] loss: 0.0000036\n",
      "[59, 12] loss: 0.0000017\n",
      "[59, 14] loss: 0.0000007\n",
      "[60, 2] loss: 0.0000024\n",
      "[60, 4] loss: 0.0000014\n",
      "[60, 6] loss: 0.0000045\n",
      "[60, 8] loss: 0.0000028\n",
      "[60, 10] loss: 0.0000036\n",
      "[60, 12] loss: 0.0000017\n",
      "[60, 14] loss: 0.0000007\n",
      "[61, 2] loss: 0.0000023\n",
      "[61, 4] loss: 0.0000014\n",
      "[61, 6] loss: 0.0000045\n",
      "[61, 8] loss: 0.0000028\n",
      "[61, 10] loss: 0.0000036\n",
      "[61, 12] loss: 0.0000017\n",
      "[61, 14] loss: 0.0000007\n",
      "[62, 2] loss: 0.0000023\n",
      "[62, 4] loss: 0.0000014\n",
      "[62, 6] loss: 0.0000045\n",
      "[62, 8] loss: 0.0000028\n",
      "[62, 10] loss: 0.0000037\n",
      "[62, 12] loss: 0.0000017\n",
      "[62, 14] loss: 0.0000007\n",
      "[63, 2] loss: 0.0000023\n",
      "[63, 4] loss: 0.0000014\n",
      "[63, 6] loss: 0.0000045\n",
      "[63, 8] loss: 0.0000028\n",
      "[63, 10] loss: 0.0000037\n",
      "[63, 12] loss: 0.0000017\n",
      "[63, 14] loss: 0.0000007\n",
      "[64, 2] loss: 0.0000023\n",
      "[64, 4] loss: 0.0000014\n",
      "[64, 6] loss: 0.0000045\n",
      "[64, 8] loss: 0.0000028\n",
      "[64, 10] loss: 0.0000037\n",
      "[64, 12] loss: 0.0000017\n",
      "[64, 14] loss: 0.0000007\n",
      "[65, 2] loss: 0.0000023\n",
      "[65, 4] loss: 0.0000014\n",
      "[65, 6] loss: 0.0000044\n",
      "[65, 8] loss: 0.0000028\n",
      "[65, 10] loss: 0.0000037\n",
      "[65, 12] loss: 0.0000017\n",
      "[65, 14] loss: 0.0000007\n",
      "[66, 2] loss: 0.0000023\n",
      "[66, 4] loss: 0.0000014\n",
      "[66, 6] loss: 0.0000044\n",
      "[66, 8] loss: 0.0000027\n",
      "[66, 10] loss: 0.0000038\n",
      "[66, 12] loss: 0.0000017\n",
      "[66, 14] loss: 0.0000007\n",
      "[67, 2] loss: 0.0000022\n",
      "[67, 4] loss: 0.0000014\n",
      "[67, 6] loss: 0.0000044\n",
      "[67, 8] loss: 0.0000027\n",
      "[67, 10] loss: 0.0000038\n",
      "[67, 12] loss: 0.0000017\n",
      "[67, 14] loss: 0.0000007\n",
      "[68, 2] loss: 0.0000022\n",
      "[68, 4] loss: 0.0000014\n",
      "[68, 6] loss: 0.0000044\n",
      "[68, 8] loss: 0.0000027\n",
      "[68, 10] loss: 0.0000038\n",
      "[68, 12] loss: 0.0000017\n",
      "[68, 14] loss: 0.0000007\n",
      "[69, 2] loss: 0.0000022\n",
      "[69, 4] loss: 0.0000014\n",
      "[69, 6] loss: 0.0000044\n",
      "[69, 8] loss: 0.0000027\n",
      "[69, 10] loss: 0.0000038\n",
      "[69, 12] loss: 0.0000017\n",
      "[69, 14] loss: 0.0000007\n",
      "[70, 2] loss: 0.0000022\n",
      "[70, 4] loss: 0.0000014\n",
      "[70, 6] loss: 0.0000044\n",
      "[70, 8] loss: 0.0000027\n",
      "[70, 10] loss: 0.0000038\n",
      "[70, 12] loss: 0.0000017\n",
      "[70, 14] loss: 0.0000007\n",
      "[71, 2] loss: 0.0000022\n",
      "[71, 4] loss: 0.0000014\n",
      "[71, 6] loss: 0.0000044\n",
      "[71, 8] loss: 0.0000027\n",
      "[71, 10] loss: 0.0000039\n",
      "[71, 12] loss: 0.0000017\n",
      "[71, 14] loss: 0.0000007\n",
      "[72, 2] loss: 0.0000022\n",
      "[72, 4] loss: 0.0000014\n",
      "[72, 6] loss: 0.0000044\n",
      "[72, 8] loss: 0.0000027\n",
      "[72, 10] loss: 0.0000039\n",
      "[72, 12] loss: 0.0000017\n",
      "[72, 14] loss: 0.0000007\n",
      "[73, 2] loss: 0.0000022\n",
      "[73, 4] loss: 0.0000014\n",
      "[73, 6] loss: 0.0000044\n",
      "[73, 8] loss: 0.0000027\n",
      "[73, 10] loss: 0.0000039\n",
      "[73, 12] loss: 0.0000017\n",
      "[73, 14] loss: 0.0000007\n",
      "[74, 2] loss: 0.0000021\n",
      "[74, 4] loss: 0.0000014\n",
      "[74, 6] loss: 0.0000044\n",
      "[74, 8] loss: 0.0000027\n",
      "[74, 10] loss: 0.0000039\n",
      "[74, 12] loss: 0.0000017\n",
      "[74, 14] loss: 0.0000007\n",
      "[75, 2] loss: 0.0000021\n",
      "[75, 4] loss: 0.0000014\n",
      "[75, 6] loss: 0.0000044\n",
      "[75, 8] loss: 0.0000027\n",
      "[75, 10] loss: 0.0000039\n",
      "[75, 12] loss: 0.0000017\n",
      "[75, 14] loss: 0.0000007\n",
      "[76, 2] loss: 0.0000021\n",
      "[76, 4] loss: 0.0000014\n",
      "[76, 6] loss: 0.0000044\n",
      "[76, 8] loss: 0.0000027\n",
      "[76, 10] loss: 0.0000040\n",
      "[76, 12] loss: 0.0000017\n",
      "[76, 14] loss: 0.0000007\n",
      "[77, 2] loss: 0.0000021\n",
      "[77, 4] loss: 0.0000014\n",
      "[77, 6] loss: 0.0000044\n",
      "[77, 8] loss: 0.0000027\n",
      "[77, 10] loss: 0.0000040\n",
      "[77, 12] loss: 0.0000017\n",
      "[77, 14] loss: 0.0000007\n",
      "[78, 2] loss: 0.0000021\n",
      "[78, 4] loss: 0.0000014\n",
      "[78, 6] loss: 0.0000044\n",
      "[78, 8] loss: 0.0000027\n",
      "[78, 10] loss: 0.0000040\n",
      "[78, 12] loss: 0.0000017\n",
      "[78, 14] loss: 0.0000007\n",
      "[79, 2] loss: 0.0000021\n",
      "[79, 4] loss: 0.0000014\n",
      "[79, 6] loss: 0.0000044\n",
      "[79, 8] loss: 0.0000027\n",
      "[79, 10] loss: 0.0000040\n",
      "[79, 12] loss: 0.0000017\n",
      "[79, 14] loss: 0.0000007\n",
      "[80, 2] loss: 0.0000021\n",
      "[80, 4] loss: 0.0000014\n",
      "[80, 6] loss: 0.0000044\n",
      "[80, 8] loss: 0.0000027\n",
      "[80, 10] loss: 0.0000040\n",
      "[80, 12] loss: 0.0000017\n",
      "[80, 14] loss: 0.0000007\n",
      "[81, 2] loss: 0.0000021\n",
      "[81, 4] loss: 0.0000014\n",
      "[81, 6] loss: 0.0000044\n",
      "[81, 8] loss: 0.0000027\n",
      "[81, 10] loss: 0.0000040\n",
      "[81, 12] loss: 0.0000017\n",
      "[81, 14] loss: 0.0000007\n",
      "[82, 2] loss: 0.0000021\n",
      "[82, 4] loss: 0.0000014\n",
      "[82, 6] loss: 0.0000044\n",
      "[82, 8] loss: 0.0000027\n",
      "[82, 10] loss: 0.0000040\n",
      "[82, 12] loss: 0.0000017\n",
      "[82, 14] loss: 0.0000007\n",
      "[83, 2] loss: 0.0000020\n",
      "[83, 4] loss: 0.0000015\n",
      "[83, 6] loss: 0.0000044\n",
      "[83, 8] loss: 0.0000027\n",
      "[83, 10] loss: 0.0000041\n",
      "[83, 12] loss: 0.0000017\n",
      "[83, 14] loss: 0.0000007\n",
      "[84, 2] loss: 0.0000020\n",
      "[84, 4] loss: 0.0000015\n",
      "[84, 6] loss: 0.0000044\n",
      "[84, 8] loss: 0.0000027\n",
      "[84, 10] loss: 0.0000041\n",
      "[84, 12] loss: 0.0000017\n",
      "[84, 14] loss: 0.0000007\n",
      "[85, 2] loss: 0.0000020\n",
      "[85, 4] loss: 0.0000015\n",
      "[85, 6] loss: 0.0000044\n",
      "[85, 8] loss: 0.0000026\n",
      "[85, 10] loss: 0.0000041\n",
      "[85, 12] loss: 0.0000017\n",
      "[85, 14] loss: 0.0000007\n",
      "[86, 2] loss: 0.0000020\n",
      "[86, 4] loss: 0.0000015\n",
      "[86, 6] loss: 0.0000044\n",
      "[86, 8] loss: 0.0000026\n",
      "[86, 10] loss: 0.0000041\n",
      "[86, 12] loss: 0.0000017\n",
      "[86, 14] loss: 0.0000007\n",
      "[87, 2] loss: 0.0000020\n",
      "[87, 4] loss: 0.0000015\n",
      "[87, 6] loss: 0.0000044\n",
      "[87, 8] loss: 0.0000026\n",
      "[87, 10] loss: 0.0000041\n",
      "[87, 12] loss: 0.0000017\n",
      "[87, 14] loss: 0.0000007\n",
      "[88, 2] loss: 0.0000020\n",
      "[88, 4] loss: 0.0000015\n",
      "[88, 6] loss: 0.0000044\n",
      "[88, 8] loss: 0.0000026\n",
      "[88, 10] loss: 0.0000041\n",
      "[88, 12] loss: 0.0000017\n",
      "[88, 14] loss: 0.0000007\n",
      "[89, 2] loss: 0.0000020\n",
      "[89, 4] loss: 0.0000015\n",
      "[89, 6] loss: 0.0000044\n",
      "[89, 8] loss: 0.0000026\n",
      "[89, 10] loss: 0.0000041\n",
      "[89, 12] loss: 0.0000018\n",
      "[89, 14] loss: 0.0000007\n",
      "[90, 2] loss: 0.0000020\n",
      "[90, 4] loss: 0.0000015\n",
      "[90, 6] loss: 0.0000044\n",
      "[90, 8] loss: 0.0000026\n",
      "[90, 10] loss: 0.0000042\n",
      "[90, 12] loss: 0.0000018\n",
      "[90, 14] loss: 0.0000007\n",
      "[91, 2] loss: 0.0000020\n",
      "[91, 4] loss: 0.0000015\n",
      "[91, 6] loss: 0.0000044\n",
      "[91, 8] loss: 0.0000026\n",
      "[91, 10] loss: 0.0000042\n",
      "[91, 12] loss: 0.0000018\n",
      "[91, 14] loss: 0.0000007\n",
      "[92, 2] loss: 0.0000020\n",
      "[92, 4] loss: 0.0000015\n",
      "[92, 6] loss: 0.0000044\n",
      "[92, 8] loss: 0.0000026\n",
      "[92, 10] loss: 0.0000042\n",
      "[92, 12] loss: 0.0000018\n",
      "[92, 14] loss: 0.0000007\n",
      "[93, 2] loss: 0.0000020\n",
      "[93, 4] loss: 0.0000015\n",
      "[93, 6] loss: 0.0000044\n",
      "[93, 8] loss: 0.0000026\n",
      "[93, 10] loss: 0.0000042\n",
      "[93, 12] loss: 0.0000018\n",
      "[93, 14] loss: 0.0000007\n",
      "[94, 2] loss: 0.0000020\n",
      "[94, 4] loss: 0.0000015\n",
      "[94, 6] loss: 0.0000044\n",
      "[94, 8] loss: 0.0000026\n",
      "[94, 10] loss: 0.0000042\n",
      "[94, 12] loss: 0.0000018\n",
      "[94, 14] loss: 0.0000007\n",
      "[95, 2] loss: 0.0000020\n",
      "[95, 4] loss: 0.0000015\n",
      "[95, 6] loss: 0.0000045\n",
      "[95, 8] loss: 0.0000026\n",
      "[95, 10] loss: 0.0000042\n",
      "[95, 12] loss: 0.0000018\n",
      "[95, 14] loss: 0.0000007\n",
      "[96, 2] loss: 0.0000020\n",
      "[96, 4] loss: 0.0000015\n",
      "[96, 6] loss: 0.0000045\n",
      "[96, 8] loss: 0.0000026\n",
      "[96, 10] loss: 0.0000042\n",
      "[96, 12] loss: 0.0000018\n",
      "[96, 14] loss: 0.0000007\n",
      "[97, 2] loss: 0.0000020\n",
      "[97, 4] loss: 0.0000015\n",
      "[97, 6] loss: 0.0000045\n",
      "[97, 8] loss: 0.0000026\n",
      "[97, 10] loss: 0.0000042\n",
      "[97, 12] loss: 0.0000018\n",
      "[97, 14] loss: 0.0000007\n"
     ]
    },
    {
     "name": "stdout",
     "output_type": "stream",
     "text": [
      "[98, 2] loss: 0.0000020\n",
      "[98, 4] loss: 0.0000015\n",
      "[98, 6] loss: 0.0000045\n",
      "[98, 8] loss: 0.0000026\n",
      "[98, 10] loss: 0.0000042\n",
      "[98, 12] loss: 0.0000018\n",
      "[98, 14] loss: 0.0000007\n",
      "[99, 2] loss: 0.0000020\n",
      "[99, 4] loss: 0.0000015\n",
      "[99, 6] loss: 0.0000045\n",
      "[99, 8] loss: 0.0000026\n",
      "[99, 10] loss: 0.0000043\n",
      "[99, 12] loss: 0.0000018\n",
      "[99, 14] loss: 0.0000007\n",
      "[100, 2] loss: 0.0000020\n",
      "[100, 4] loss: 0.0000015\n",
      "[100, 6] loss: 0.0000045\n",
      "[100, 8] loss: 0.0000027\n",
      "[100, 10] loss: 0.0000043\n",
      "[100, 12] loss: 0.0000018\n",
      "[100, 14] loss: 0.0000007\n",
      "Finished Training\n"
     ]
    }
   ],
   "source": [
    "for epoc in range (100):\n",
    "        running_loss = 0.0\n",
    "        predictionplot=np.empty([960])\n",
    "        \n",
    "        for i, data in enumerate(Train_dl):\n",
    "        # get the inputs\n",
    "            inputs, labels = data['Sequence'], data['Target']\n",
    "            \n",
    "            x = Variable(inputs).cuda()\n",
    "            y = Variable(labels).cuda()\n",
    "            \n",
    "        # zero the parameter gradients\n",
    "            optimizer.zero_grad()\n",
    "            \n",
    "        # forward + backward + optimize\n",
    "            prediction, (h_state, c_state) = net(x, h_state,c_state)\n",
    "            prediction=prediction[:,19,:].squeeze()\n",
    "            h_state = Variable(h_state.data)\n",
    "            c_state = Variable(c_state.data)\n",
    "            loss = criterion(prediction, y)\n",
    "            loss.backward()\n",
    "            optimizer.step()\n",
    "            \n",
    "        # print statistics\n",
    "            running_loss += loss.item()\n",
    "            if i % 2 == 1:    # print every 2 mini-batches\n",
    "                print('[%d, %1d] loss: %.7f' %(epoc + 1, i + 1, running_loss / 2))\n",
    "                running_loss = 0.0\n",
    "            \n",
    "            predictionplot[i*64:i*64+64] = prediction.cpu().detach().numpy()\n",
    "\n",
    "print('Finished Training')"
   ]
  },
  {
   "cell_type": "code",
   "execution_count": 84,
   "metadata": {},
   "outputs": [
    {
     "data": {
      "image/png": "[encoded data removed]",
      "text/plain": [
       "<Figure size 432x288 with 1 Axes>"
      ]
     },
     "metadata": {
      "needs_background": "light"
     },
     "output_type": "display_data"
    }
   ],
   "source": [
    " # plotting\n",
    "plt.plot(np.arange(0.0, 960, 1.0), Y_Train, 'r-')\n",
    "#plt.draw(); plt.pause(0.05)\n",
    "#plt.plot(np.arange(0.0, 64.0, 1.0), prediction.data.numpy().flatten(), 'b-')\n",
    "plt.plot(np.arange(0.0, 960, 1.0), np.asarray(predictionplot), 'b-')\n",
    "plt.draw(); plt.pause(0.05)"
   ]
  },
  {
   "cell_type": "code",
   "execution_count": 67,
   "metadata": {},
   "outputs": [],
   "source": [
    "Test_ds=StockDataset(X_Test, Y_Test)"
   ]
  },
  {
   "cell_type": "code",
   "execution_count": 68,
   "metadata": {},
   "outputs": [
    {
     "data": {
      "text/plain": [
       "{'Sequence': tensor([[0.0351, 0.0334, 0.0344, 0.0372, 0.0371],\n",
       "         [0.0350, 0.0333, 0.0344, 0.0371, 0.0373],\n",
       "         [0.0351, 0.0334, 0.0345, 0.0372, 0.0373],\n",
       "         [0.0358, 0.0335, 0.0346, 0.0376, 0.0377],\n",
       "         [0.0359, 0.0339, 0.0347, 0.0384, 0.0379],\n",
       "         [0.0358, 0.0338, 0.0348, 0.0385, 0.0379],\n",
       "         [0.0357, 0.0338, 0.0349, 0.0389, 0.0378],\n",
       "         [0.0358, 0.0341, 0.0347, 0.0391, 0.0378],\n",
       "         [0.0360, 0.0340, 0.0348, 0.0398, 0.0377],\n",
       "         [0.0358, 0.0338, 0.0347, 0.0399, 0.0377],\n",
       "         [0.0357, 0.0337, 0.0348, 0.0394, 0.0376],\n",
       "         [0.0357, 0.0335, 0.0348, 0.0393, 0.0374],\n",
       "         [0.0356, 0.0335, 0.0347, 0.0398, 0.0375],\n",
       "         [0.0352, 0.0335, 0.0347, 0.0396, 0.0372],\n",
       "         [0.0353, 0.0335, 0.0346, 0.0393, 0.0371],\n",
       "         [0.0351, 0.0335, 0.0344, 0.0388, 0.0371],\n",
       "         [0.0353, 0.0341, 0.0347, 0.0396, 0.0376],\n",
       "         [0.0351, 0.0340, 0.0347, 0.0397, 0.0375],\n",
       "         [0.0350, 0.0341, 0.0345, 0.0395, 0.0378],\n",
       "         [0.0354, 0.0343, 0.0347, 0.0396, 0.0383]]), 'Target': tensor(0.0354)}"
      ]
     },
     "execution_count": 68,
     "metadata": {},
     "output_type": "execute_result"
    }
   ],
   "source": [
    "Test_ds[77]"
   ]
  },
  {
   "cell_type": "code",
   "execution_count": 69,
   "metadata": {},
   "outputs": [],
   "source": [
    "Test_dl = DataLoader(Test_ds, batch_size=64, shuffle=False, num_workers=4)"
   ]
  },
  {
   "cell_type": "code",
   "execution_count": 85,
   "metadata": {},
   "outputs": [
    {
     "name": "stdout",
     "output_type": "stream",
     "text": [
      "loss: 0.0000015\n",
      "loss: 0.0000017\n",
      "loss: 0.0000007\n",
      "loss: 0.0000017\n"
     ]
    }
   ],
   "source": [
    "with torch.no_grad():\n",
    "    predictionplot=[]\n",
    "    \n",
    "    for data in Test_dl:\n",
    "                \n",
    "        inputs, labels = data['Sequence'].cuda(), data['Target'].cuda()\n",
    "             \n",
    "        # forward + backward + optimize\n",
    "        \n",
    "        prediction, (h_state,c_state) = net(inputs, h_state,c_state)    \n",
    "        prediction=prediction[:,19,:].squeeze()\n",
    "                        \n",
    "        loss = criterion(prediction, labels)\n",
    "        running_loss += loss.item()\n",
    "               \n",
    "        print('loss: %.7f' %(running_loss))\n",
    "        running_loss = 0.0\n",
    "        predictionplot[i*(len(prediction.cpu().numpy())):i*(len(prediction.cpu().numpy()))+len(prediction.cpu().numpy())] = prediction.cpu().detach().numpy()\n",
    "       \n",
    "        \n",
    "\n",
    "        "
   ]
  },
  {
   "cell_type": "code",
   "execution_count": 86,
   "metadata": {},
   "outputs": [
    {
     "data": {
      "image/png": "[encoded data removed]",
      "text/plain": [
       "<Figure size 432x288 with 1 Axes>"
      ]
     },
     "metadata": {
      "needs_background": "light"
     },
     "output_type": "display_data"
    }
   ],
   "source": [
    "plt.plot(np.arange(0.0, 256, 1.0), Y_Test, 'r-')\n",
    "plt.plot(np.arange(0.0, 256, 1.0), np.asarray(predictionplot), 'b-')\n",
    "plt.draw(); "
   ]
  },
  {
   "cell_type": "code",
   "execution_count": null,
   "metadata": {},
   "outputs": [],
   "source": []
  }
 ],
 "metadata": {
  "kernelspec": {
   "display_name": "Python 3",
   "language": "python",
   "name": "python3"
  },
  "language_info": {
   "codemirror_mode": {
    "name": "ipython",
    "version": 3
   },
   "file_extension": ".py",
   "mimetype": "text/x-python",
   "name": "python",
   "nbconvert_exporter": "python",
   "pygments_lexer": "ipython3",
   "version": "3.6.8"
  }
 },
 "nbformat": 4,
 "nbformat_minor": 2
}
